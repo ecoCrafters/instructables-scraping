{
 "cells": [
  {
   "cell_type": "markdown",
   "source": [
    "# Cleaning Up Scraped Data\n",
    "\n",
    "After scraping, only the appropriate tutorial is kept. The selection done by manually deleting tutorials from the `posts.tsv` file. That means there will be some redundant data in the junction table with materials (`posts_ingredients.csv`) and the material itself (`ingredients.csv`). Also there are some mistake when parsing the slug and the materials from the web.\n",
    "\n",
    "So this notebook will:\n",
    "- Cleanup redundant data\n",
    "- Cleanup the text data"
   ],
   "metadata": {
    "collapsed": false
   }
  },
  {
   "cell_type": "code",
   "execution_count": 1,
   "metadata": {
    "collapsed": true,
    "ExecuteTime": {
     "end_time": "2023-05-18T08:08:34.320166100Z",
     "start_time": "2023-05-18T08:08:33.434133100Z"
    }
   },
   "outputs": [],
   "source": [
    "import string\n",
    "\n",
    "import pandas as pd"
   ]
  },
  {
   "cell_type": "code",
   "execution_count": 2,
   "outputs": [],
   "source": [
    "ins_df = pd.read_csv(r'..\\data\\posts.tsv', sep='\\t')\n",
    "ins_mat_df = pd.read_csv(r'..\\data\\posts_ingredients.csv')\n",
    "mat_df = pd.read_csv(r'..\\data\\ingredients.csv')"
   ],
   "metadata": {
    "collapsed": false,
    "ExecuteTime": {
     "end_time": "2023-05-18T08:12:09.865851800Z",
     "start_time": "2023-05-18T08:12:09.828853400Z"
    }
   }
  },
  {
   "cell_type": "code",
   "execution_count": 21,
   "outputs": [],
   "source": [
    "mat_df.rename(columns={'id': 'ingredient_id'}, inplace=True)\n",
    "ins_mat_df.rename(columns={'id': 'post_ingredients_id'}, inplace=True)"
   ],
   "metadata": {
    "collapsed": false,
    "ExecuteTime": {
     "end_time": "2023-05-18T08:33:09.581066600Z",
     "start_time": "2023-05-18T08:33:09.558074900Z"
    }
   }
  },
  {
   "cell_type": "markdown",
   "source": [
    "## Cleanup Redundant Data"
   ],
   "metadata": {
    "collapsed": false
   }
  },
  {
   "cell_type": "code",
   "execution_count": 23,
   "outputs": [
    {
     "data": {
      "text/plain": "  post_id                                              title   \n0  P83810  Making Useful Plant Pot From Waste Packaging M...  \\\n1  P83810  Making Useful Plant Pot From Waste Packaging M...   \n2  P83810  Making Useful Plant Pot From Waste Packaging M...   \n3  P83810  Making Useful Plant Pot From Waste Packaging M...   \n4  P83810  Making Useful Plant Pot From Waste Packaging M...   \n\n                                                slug   \n0  making-useful-plant-pot-from-waste-packaging-m...  \\\n1  making-useful-plant-pot-from-waste-packaging-m...   \n2  making-useful-plant-pot-from-waste-packaging-m...   \n3  making-useful-plant-pot-from-waste-packaging-m...   \n4  making-useful-plant-pot-from-waste-packaging-m...   \n\n                                             content   \n0  <img src=\"https://content.instructables.com/FV...  \\\n1  <img src=\"https://content.instructables.com/FV...   \n2  <img src=\"https://content.instructables.com/FV...   \n3  <img src=\"https://content.instructables.com/FV...   \n4  <img src=\"https://content.instructables.com/FV...   \n\n                                           thumbnail  num_of_likes   \n0  https://content.instructables.com/FV4/9EYY/LHD...             0  \\\n1  https://content.instructables.com/FV4/9EYY/LHD...             0   \n2  https://content.instructables.com/FV4/9EYY/LHD...             0   \n3  https://content.instructables.com/FV4/9EYY/LHD...             0   \n4  https://content.instructables.com/FV4/9EYY/LHD...             0   \n\n            created_at  deleted_at user_id post_ingredients_id ingredient_id  \n0  15-05-2023 23:59:20         NaN   admin             PM03279        M14593  \n1  15-05-2023 23:59:20         NaN   admin             PM36049        M97197  \n2  15-05-2023 23:59:20         NaN   admin             PM29257        M32099  \n3  15-05-2023 23:59:20         NaN   admin             PM96531        M18290  \n4  15-05-2023 23:59:20         NaN   admin             PM88697        M13435  ",
      "text/html": "<div>\n<style scoped>\n    .dataframe tbody tr th:only-of-type {\n        vertical-align: middle;\n    }\n\n    .dataframe tbody tr th {\n        vertical-align: top;\n    }\n\n    .dataframe thead th {\n        text-align: right;\n    }\n</style>\n<table border=\"1\" class=\"dataframe\">\n  <thead>\n    <tr style=\"text-align: right;\">\n      <th></th>\n      <th>post_id</th>\n      <th>title</th>\n      <th>slug</th>\n      <th>content</th>\n      <th>thumbnail</th>\n      <th>num_of_likes</th>\n      <th>created_at</th>\n      <th>deleted_at</th>\n      <th>user_id</th>\n      <th>post_ingredients_id</th>\n      <th>ingredient_id</th>\n    </tr>\n  </thead>\n  <tbody>\n    <tr>\n      <th>0</th>\n      <td>P83810</td>\n      <td>Making Useful Plant Pot From Waste Packaging M...</td>\n      <td>making-useful-plant-pot-from-waste-packaging-m...</td>\n      <td>&lt;img src=\"https://content.instructables.com/FV...</td>\n      <td>https://content.instructables.com/FV4/9EYY/LHD...</td>\n      <td>0</td>\n      <td>15-05-2023 23:59:20</td>\n      <td>NaN</td>\n      <td>admin</td>\n      <td>PM03279</td>\n      <td>M14593</td>\n    </tr>\n    <tr>\n      <th>1</th>\n      <td>P83810</td>\n      <td>Making Useful Plant Pot From Waste Packaging M...</td>\n      <td>making-useful-plant-pot-from-waste-packaging-m...</td>\n      <td>&lt;img src=\"https://content.instructables.com/FV...</td>\n      <td>https://content.instructables.com/FV4/9EYY/LHD...</td>\n      <td>0</td>\n      <td>15-05-2023 23:59:20</td>\n      <td>NaN</td>\n      <td>admin</td>\n      <td>PM36049</td>\n      <td>M97197</td>\n    </tr>\n    <tr>\n      <th>2</th>\n      <td>P83810</td>\n      <td>Making Useful Plant Pot From Waste Packaging M...</td>\n      <td>making-useful-plant-pot-from-waste-packaging-m...</td>\n      <td>&lt;img src=\"https://content.instructables.com/FV...</td>\n      <td>https://content.instructables.com/FV4/9EYY/LHD...</td>\n      <td>0</td>\n      <td>15-05-2023 23:59:20</td>\n      <td>NaN</td>\n      <td>admin</td>\n      <td>PM29257</td>\n      <td>M32099</td>\n    </tr>\n    <tr>\n      <th>3</th>\n      <td>P83810</td>\n      <td>Making Useful Plant Pot From Waste Packaging M...</td>\n      <td>making-useful-plant-pot-from-waste-packaging-m...</td>\n      <td>&lt;img src=\"https://content.instructables.com/FV...</td>\n      <td>https://content.instructables.com/FV4/9EYY/LHD...</td>\n      <td>0</td>\n      <td>15-05-2023 23:59:20</td>\n      <td>NaN</td>\n      <td>admin</td>\n      <td>PM96531</td>\n      <td>M18290</td>\n    </tr>\n    <tr>\n      <th>4</th>\n      <td>P83810</td>\n      <td>Making Useful Plant Pot From Waste Packaging M...</td>\n      <td>making-useful-plant-pot-from-waste-packaging-m...</td>\n      <td>&lt;img src=\"https://content.instructables.com/FV...</td>\n      <td>https://content.instructables.com/FV4/9EYY/LHD...</td>\n      <td>0</td>\n      <td>15-05-2023 23:59:20</td>\n      <td>NaN</td>\n      <td>admin</td>\n      <td>PM88697</td>\n      <td>M13435</td>\n    </tr>\n  </tbody>\n</table>\n</div>"
     },
     "execution_count": 23,
     "metadata": {},
     "output_type": "execute_result"
    }
   ],
   "source": [
    "common = ins_df.merge(ins_mat_df, on=['post_id'])\n",
    "common.head()"
   ],
   "metadata": {
    "collapsed": false,
    "ExecuteTime": {
     "end_time": "2023-05-18T08:33:15.959581700Z",
     "start_time": "2023-05-18T08:33:15.934202900Z"
    }
   }
  },
  {
   "cell_type": "code",
   "execution_count": 27,
   "outputs": [],
   "source": [
    "ins_mat_df_reduced = ins_mat_df[ins_mat_df['post_id'].isin(common['post_id'])]"
   ],
   "metadata": {
    "collapsed": false,
    "ExecuteTime": {
     "end_time": "2023-05-18T08:35:39.713244500Z",
     "start_time": "2023-05-18T08:35:39.692245700Z"
    }
   }
  },
  {
   "cell_type": "code",
   "execution_count": 28,
   "outputs": [
    {
     "data": {
      "text/plain": "    post_ingredients_id post_id ingredient_id              ingredient   \n0               PM03279  P83810        M14593      packaging material  \\\n1               PM36049  P83810        M97197              thermocoal   \n2               PM29257  P83810        M32099                  paints   \n3               PM96531  P83810        M18290                   brush   \n4               PM88697  P83810        M13435               dry leafs   \n..                  ...     ...           ...                     ...   \n506             PM44397  P11813        M97854  acrylic or clear glass   \n507             PM61386  P11813        M15096             waste sheet   \n508             PM98849  P09869        M18450             pla plastic   \n509             PM88648  P09869        M29572      silicon baking mat   \n510             PM88396  P09869        M94925            laser cutter   \n\n              created_at  \n0    15-05-2023 23:59:20  \n1    15-05-2023 23:59:20  \n2    15-05-2023 23:59:20  \n3    15-05-2023 23:59:20  \n4    15-05-2023 23:59:20  \n..                   ...  \n506  16-05-2023 03:34:47  \n507  16-05-2023 03:34:47  \n508  16-05-2023 03:35:12  \n509  16-05-2023 03:35:12  \n510  16-05-2023 03:35:12  \n\n[511 rows x 5 columns]",
      "text/html": "<div>\n<style scoped>\n    .dataframe tbody tr th:only-of-type {\n        vertical-align: middle;\n    }\n\n    .dataframe tbody tr th {\n        vertical-align: top;\n    }\n\n    .dataframe thead th {\n        text-align: right;\n    }\n</style>\n<table border=\"1\" class=\"dataframe\">\n  <thead>\n    <tr style=\"text-align: right;\">\n      <th></th>\n      <th>post_ingredients_id</th>\n      <th>post_id</th>\n      <th>ingredient_id</th>\n      <th>ingredient</th>\n      <th>created_at</th>\n    </tr>\n  </thead>\n  <tbody>\n    <tr>\n      <th>0</th>\n      <td>PM03279</td>\n      <td>P83810</td>\n      <td>M14593</td>\n      <td>packaging material</td>\n      <td>15-05-2023 23:59:20</td>\n    </tr>\n    <tr>\n      <th>1</th>\n      <td>PM36049</td>\n      <td>P83810</td>\n      <td>M97197</td>\n      <td>thermocoal</td>\n      <td>15-05-2023 23:59:20</td>\n    </tr>\n    <tr>\n      <th>2</th>\n      <td>PM29257</td>\n      <td>P83810</td>\n      <td>M32099</td>\n      <td>paints</td>\n      <td>15-05-2023 23:59:20</td>\n    </tr>\n    <tr>\n      <th>3</th>\n      <td>PM96531</td>\n      <td>P83810</td>\n      <td>M18290</td>\n      <td>brush</td>\n      <td>15-05-2023 23:59:20</td>\n    </tr>\n    <tr>\n      <th>4</th>\n      <td>PM88697</td>\n      <td>P83810</td>\n      <td>M13435</td>\n      <td>dry leafs</td>\n      <td>15-05-2023 23:59:20</td>\n    </tr>\n    <tr>\n      <th>...</th>\n      <td>...</td>\n      <td>...</td>\n      <td>...</td>\n      <td>...</td>\n      <td>...</td>\n    </tr>\n    <tr>\n      <th>506</th>\n      <td>PM44397</td>\n      <td>P11813</td>\n      <td>M97854</td>\n      <td>acrylic or clear glass</td>\n      <td>16-05-2023 03:34:47</td>\n    </tr>\n    <tr>\n      <th>507</th>\n      <td>PM61386</td>\n      <td>P11813</td>\n      <td>M15096</td>\n      <td>waste sheet</td>\n      <td>16-05-2023 03:34:47</td>\n    </tr>\n    <tr>\n      <th>508</th>\n      <td>PM98849</td>\n      <td>P09869</td>\n      <td>M18450</td>\n      <td>pla plastic</td>\n      <td>16-05-2023 03:35:12</td>\n    </tr>\n    <tr>\n      <th>509</th>\n      <td>PM88648</td>\n      <td>P09869</td>\n      <td>M29572</td>\n      <td>silicon baking mat</td>\n      <td>16-05-2023 03:35:12</td>\n    </tr>\n    <tr>\n      <th>510</th>\n      <td>PM88396</td>\n      <td>P09869</td>\n      <td>M94925</td>\n      <td>laser cutter</td>\n      <td>16-05-2023 03:35:12</td>\n    </tr>\n  </tbody>\n</table>\n<p>511 rows × 5 columns</p>\n</div>"
     },
     "execution_count": 28,
     "metadata": {},
     "output_type": "execute_result"
    }
   ],
   "source": [
    "mat_common = ins_mat_df_reduced.merge(mat_df, on=['ingredient_id'])\n",
    "mat_common"
   ],
   "metadata": {
    "collapsed": false,
    "ExecuteTime": {
     "end_time": "2023-05-18T08:35:47.690636800Z",
     "start_time": "2023-05-18T08:35:47.654609900Z"
    }
   }
  },
  {
   "cell_type": "code",
   "execution_count": 29,
   "outputs": [],
   "source": [
    "mat_df_reduced = mat_df[mat_df['ingredient_id'].isin(mat_common['ingredient_id'])]"
   ],
   "metadata": {
    "collapsed": false,
    "ExecuteTime": {
     "end_time": "2023-05-18T08:35:59.004683800Z",
     "start_time": "2023-05-18T08:35:58.988684600Z"
    }
   }
  },
  {
   "cell_type": "markdown",
   "source": [
    "## Cleanup Text"
   ],
   "metadata": {
    "collapsed": false
   }
  },
  {
   "cell_type": "markdown",
   "source": [
    "### Posts' Slug"
   ],
   "metadata": {
    "collapsed": false
   }
  },
  {
   "cell_type": "code",
   "execution_count": 44,
   "outputs": [
    {
     "data": {
      "text/plain": "'!\"#$%&\\'()*+,-./:;<=>?@[\\\\]^_`{|}~'"
     },
     "execution_count": 44,
     "metadata": {},
     "output_type": "execute_result"
    }
   ],
   "source": [
    "import string\n",
    "import re\n",
    "string.punctuation"
   ],
   "metadata": {
    "collapsed": false,
    "ExecuteTime": {
     "end_time": "2023-05-18T08:49:13.653933800Z",
     "start_time": "2023-05-18T08:49:13.615938600Z"
    }
   }
  },
  {
   "cell_type": "code",
   "execution_count": 45,
   "outputs": [],
   "source": [
    "def create_refined_slug(title: str):\n",
    "    clean_title = title.translate(str.maketrans('', '', string.punctuation))\n",
    "    clean_title = re.sub(' +', ' ', clean_title)\n",
    "    return clean_title.lower().replace(' ', '-')"
   ],
   "metadata": {
    "collapsed": false,
    "ExecuteTime": {
     "end_time": "2023-05-18T08:50:08.214812700Z",
     "start_time": "2023-05-18T08:50:08.191765900Z"
    }
   }
  },
  {
   "cell_type": "code",
   "execution_count": 46,
   "outputs": [],
   "source": [
    "ins_df['slug'] = ins_df['title'].apply(create_refined_slug)"
   ],
   "metadata": {
    "collapsed": false,
    "ExecuteTime": {
     "end_time": "2023-05-18T08:50:09.973816800Z",
     "start_time": "2023-05-18T08:50:09.951681400Z"
    }
   }
  },
  {
   "cell_type": "code",
   "execution_count": 47,
   "outputs": [
    {
     "data": {
      "text/plain": "   post_id                                              title   \n0   P83810  Making Useful Plant Pot From Waste Packaging M...  \\\n1   P03905        Handmade Solstice Clock (Best Out of Waste)   \n2   P30512                                  DIY Best of Waste   \n3   P79840      A Bluetooth Speaker Built With Waste Material   \n4   P30021                                 3D WASTE BLUETOOTH   \n5   P74341                 Glowing Light From Packaging Waste   \n6   P50019                     How to Keep Warm on Waste Heat   \n7   P09071     Acetone Recycler (Industrial Waste Management)   \n8   P14029  Recycled Computer Monitor to Waste Basket (sup...   \n9   P05014                   \"Toxic Waste\" Halloween Costume!   \n10  P81678   DIY Steam-punk Ring Made Out of Some Metal Waste   \n11  P42753                 Warm Hats From Waste Fleece Fabric   \n12  P49695           OTA HDTV Antenna From Construction Waste   \n13  P12240                              Cardboard Waste Tower   \n14  P60889   Creative Moneybox Made From Plastic Bottle Waste   \n15  P33972                                 Waste Plastic Pump   \n16  P63654                         Wristlet From Waste Fabric   \n17  P16728       Rocket Stove Manufacturing Waste 40 Minutes.   \n18  P27742                          Electronic Waste Bracelet   \n19  P29389              Low Waste Low Spillage Chicken Feeder   \n20  P85426                        Shock Prank Out of Waste...   \n21  P91680    Sparebots Selfmade Electronic Waste DIY Project   \n22  P21465               Ashtray Made of Total Waste Material   \n23  P74177                             Paper Stand From Waste   \n24  P84874          Night Lights Made From Waste Materials...   \n25  P63372            DIY Flower Vase Out of Waste News Paper   \n26  P95817              DIY Flower Vase Out of Waste Products   \n27  P90519                                  Best Out of Waste   \n28  P76225                       Goldie's Toxic Waste Barrels   \n29  P77278                         Stirling Engine From Waste   \n30  P62616                     Clad Composite Beam From Waste   \n31  P34687  DIY : How to Upscale Old Boxes to Organizers |...   \n32  P30595        The Sweet Spin- Best Way to Reuse the Waste   \n33  P16299      How to Make a Showcase Using Waste Carton Box   \n34  P32816         From Waste to Tabletop Planter for Sunroom   \n35  P05273                              UpBrella - Waste Knot   \n36  P33082                       Flower Art From Waste Straws   \n37  P71118  How to Make a Toothbrush Holder /Toothbrush Ho...   \n38  P91521                              Magazine Waste Basket   \n39  P79806                        Waste Batteries Night Light   \n40  P38254            Room/Garden Decor Lamp(Out of Waste!!!)   \n41  P72340              Welcome Doll From Waste Glass Bottles   \n42  P19936                  Furniture From Construction Waste   \n43  P94203    Zero Waste Cart: Community Recycling Stand MSPF   \n44  P83066  DIY - Best From Waste Ll Used Cloth Door Mat /...   \n45  P58153         Best Out of Waste Cardboard Christmas Tree   \n46  P89539              Paper Strip Bowl With Old Waste Paper   \n47  P87404            Cardboard Roll Vase - Best Out of Waste   \n48  P86275  Indoor Gardening - Sub Irrigation Planter Usin...   \n49  P17927                 Storage/organizer From Waste Pipes   \n50  P11813               DIY Tea Table From Waste Packing Box   \n51  P09869  Making Beautiful Products From the Waste of a ...   \n\n                                                 slug   \n0   making-useful-plant-pot-from-waste-packaging-m...  \\\n1           handmade-solstice-clock-best-out-of-waste   \n2                                   diy-best-of-waste   \n3       a-bluetooth-speaker-built-with-waste-material   \n4                                  3d-waste-bluetooth   \n5                  glowing-light-from-packaging-waste   \n6                      how-to-keep-warm-on-waste-heat   \n7        acetone-recycler-industrial-waste-management   \n8   recycled-computer-monitor-to-waste-basket-supe...   \n9                       toxic-waste-halloween-costume   \n10    diy-steampunk-ring-made-out-of-some-metal-waste   \n11                 warm-hats-from-waste-fleece-fabric   \n12           ota-hdtv-antenna-from-construction-waste   \n13                              cardboard-waste-tower   \n14   creative-moneybox-made-from-plastic-bottle-waste   \n15                                 waste-plastic-pump   \n16                         wristlet-from-waste-fabric   \n17        rocket-stove-manufacturing-waste-40-minutes   \n18                          electronic-waste-bracelet   \n19              low-waste-low-spillage-chicken-feeder   \n20                           shock-prank-out-of-waste   \n21    sparebots-selfmade-electronic-waste-diy-project   \n22               ashtray-made-of-total-waste-material   \n23                             paper-stand-from-waste   \n24             night-lights-made-from-waste-materials   \n25            diy-flower-vase-out-of-waste-news-paper   \n26              diy-flower-vase-out-of-waste-products   \n27                                  best-out-of-waste   \n28                        goldies-toxic-waste-barrels   \n29                         stirling-engine-from-waste   \n30                     clad-composite-beam-from-waste   \n31  diy-how-to-upscale-old-boxes-to-organizers-bes...   \n32         the-sweet-spin-best-way-to-reuse-the-waste   \n33      how-to-make-a-showcase-using-waste-carton-box   \n34         from-waste-to-tabletop-planter-for-sunroom   \n35                                upbrella-waste-knot   \n36                       flower-art-from-waste-straws   \n37  how-to-make-a-toothbrush-holder-toothbrush-hol...   \n38                              magazine-waste-basket   \n39                        waste-batteries-night-light   \n40                  roomgarden-decor-lampout-of-waste   \n41              welcome-doll-from-waste-glass-bottles   \n42                  furniture-from-construction-waste   \n43     zero-waste-cart-community-recycling-stand-mspf   \n44  diy-best-from-waste-ll-used-cloth-door-mat-rug...   \n45         best-out-of-waste-cardboard-christmas-tree   \n46              paper-strip-bowl-with-old-waste-paper   \n47              cardboard-roll-vase-best-out-of-waste   \n48  indoor-gardening-sub-irrigation-planter-using-...   \n49                  storageorganizer-from-waste-pipes   \n50               diy-tea-table-from-waste-packing-box   \n51  making-beautiful-products-from-the-waste-of-a-...   \n\n                                              content   \n0   <img src=\"https://content.instructables.com/FV...  \\\n1   <img src=\"https://content.instructables.com/FP...   \n2   <img src=\"https://content.instructables.com/FG...   \n3   <img src=\"https://content.instructables.com/FL...   \n4   <img src=\"https://content.instructables.com/F4...   \n5   <img src=\"https://content.instructables.com/FP...   \n6   <img src=\"https://content.instructables.com/FX...   \n7   <img src=\"https://content.instructables.com/F5...   \n8   <img src=\"https://content.instructables.com/FR...   \n9   <img src=\"https://content.instructables.com/F5...   \n10  <img src=\"https://content.instructables.com/FW...   \n11  <img src=\"https://content.instructables.com/FM...   \n12  <img src=\"https://content.instructables.com/FQ...   \n13  <img src=\"https://content.instructables.com/F1...   \n14  <img src=\"https://content.instructables.com/F4...   \n15  <img src=\"https://content.instructables.com/FK...   \n16  <img src=\"https://content.instructables.com/F4...   \n17  <img src=\"https://content.instructables.com/FV...   \n18  <img src=\"https://content.instructables.com/F6...   \n19  <p>Cheap to make low waste chicken feeder for ...   \n20  <img src=\"https://content.instructables.com/FV...   \n21  <img src=\"https://content.instructables.com/F7...   \n22  <img src=\"https://content.instructables.com/F8...   \n23  <img src=\"https://content.instructables.com/FV...   \n24  <img src=\"https://content.instructables.com/FV...   \n25  <img src=\"https://content.instructables.com/FM...   \n26  <img src=\"https://content.instructables.com/FM...   \n27  <img src=\"https://content.instructables.com/FT...   \n28  <img src=\"https://content.instructables.com/F3...   \n29  <img src=\"https://content.instructables.com/FO...   \n30  <img src=\"https://content.instructables.com/FU...   \n31  <img src=\"https://content.instructables.com/FT...   \n32  <img src=\"https://content.instructables.com/FH...   \n33  <p>Make this beautiful showcase using carton a...   \n34  <img src=\"https://content.instructables.com/FW...   \n35  <img src=\"https://content.instructables.com/FK...   \n36  <p>Art from waste straws - Made these pretty s...   \n37  <p>Recycled tin and candy tube Toothbrush hold...   \n38  <img src=\"https://content.instructables.com/F7...   \n39  <img src=\"https://content.instructables.com/FM...   \n40  <img src=\"https://content.instructables.com/FB...   \n41  <img src=\"https://content.instructables.com/FC...   \n42  <img src=\"https://content.instructables.com/FK...   \n43  <img src=\"https://content.instructables.com/FM...   \n44  <p>Very Simple home made, Used / Waste Cloth D...   \n45  <img src=\"https://content.instructables.com/F4...   \n46  <p>Do you want something which keeps and organ...   \n47  <img src=\"https://content.instructables.com/FD...   \n48  <img src=\"https://content.instructables.com/FM...   \n49  <img src=\"https://content.instructables.com/FN...   \n50  <img src=\"https://content.instructables.com/F9...   \n51  <img src=\"https://content.instructables.com/F1...   \n\n                                            thumbnail  num_of_likes   \n0   https://content.instructables.com/FV4/9EYY/LHD...             0  \\\n1   https://content.instructables.com/FP8/JQAG/LEO...             0   \n2   https://content.instructables.com/FGC/0OGY/LEL...             0   \n3   https://content.instructables.com/FLR/949N/LE1...             0   \n4   https://content.instructables.com/F4X/VNDM/LDZ...             0   \n5   https://content.instructables.com/FP4/47SN/F23...             0   \n6   https://content.instructables.com/FXK/O317/FPW...             0   \n7   https://content.instructables.com/F5L/1L7B/FTD...             0   \n8   https://content.instructables.com/FRC/YIUX/GJQ...             0   \n9   https://content.instructables.com/F53/JA8Y/GTO...             0   \n10  https://content.instructables.com/FW9/P1FT/H3Z...             0   \n11  https://content.instructables.com/FMQ/YQ7M/HA4...             0   \n12  https://content.instructables.com/FQG/3QJW/HBU...             0   \n13  https://content.instructables.com/F18/WS2E/HDX...             0   \n14  https://content.instructables.com/F4S/253O/HH2...             0   \n15  https://content.instructables.com/FKL/45O3/HIT...             0   \n16  https://content.instructables.com/F4S/KPNG/HJ3...             0   \n17  https://content.instructables.com/FVY/DZ3A/HSR...             0   \n18  https://content.instructables.com/F6X/5WVX/HTR...             0   \n19                                                NaN             0   \n20  https://content.instructables.com/FVG/MWDH/I88...             0   \n21  https://content.instructables.com/F7H/642Y/I2Q...             0   \n22  https://content.instructables.com/F8Y/KPJP/I3K...             0   \n23  https://content.instructables.com/FV9/FIP4/I4X...             0   \n24  https://content.instructables.com/FV7/JO2Y/I52...             0   \n25  https://content.instructables.com/FMR/AA6F/IBQ...             0   \n26  https://content.instructables.com/FM4/B1S4/IBQ...             0   \n27  https://content.instructables.com/FT8/RYMY/IE4...             0   \n28  https://content.instructables.com/F39/AC1E/FH5...             0   \n29  https://content.instructables.com/FOT/SPCY/IFV...             0   \n30  https://content.instructables.com/FU3/80AB/IHK...             0   \n31  https://content.instructables.com/FTQ/ILS0/IHF...             0   \n32  https://content.instructables.com/FHT/VHC8/IIY...             0   \n33                                                NaN             0   \n34  https://content.instructables.com/FWJ/6TL6/INE...             0   \n35  https://content.instructables.com/FKV/PIDM/IOO...             0   \n36                                                NaN             0   \n37                                                NaN             0   \n38  https://content.instructables.com/F7K/LMNG/GQS...             0   \n39  https://content.instructables.com/FMS/EWOT/ISA...             0   \n40  https://content.instructables.com/FBR/422T/IU4...             0   \n41  https://content.instructables.com/FCM/TK2O/IU8...             0   \n42  https://content.instructables.com/FKQ/49Z1/IUK...             0   \n43  https://content.instructables.com/FM4/6U38/IV0...             0   \n44                                                NaN             0   \n45  https://content.instructables.com/F4D/76JW/IWW...             0   \n46                                                NaN             0   \n47  https://content.instructables.com/FDS/4O0I/IY4...             0   \n48  https://content.instructables.com/FML/SL8Z/IY4...             0   \n49  https://content.instructables.com/FNA/6052/IYG...             0   \n50  https://content.instructables.com/F9Y/NDUR/IZ6...             0   \n51  https://content.instructables.com/F1B/Z7Y7/IZ6...             0   \n\n             created_at  deleted_at user_id  \n0   15-05-2023 23:59:20         NaN   admin  \n1   16-05-2023 00:00:05         NaN   admin  \n2   16-05-2023 00:00:26         NaN   admin  \n3   16-05-2023 00:00:49         NaN   admin  \n4   16-05-2023 00:01:49         NaN   admin  \n5   16-05-2023 00:02:41         NaN   admin  \n6   16-05-2023 00:03:54         NaN   admin  \n7   16-05-2023 00:05:05         NaN   admin  \n8   16-05-2023 00:07:01         NaN   admin  \n9   16-05-2023 03:00:40         NaN   admin  \n10  16-05-2023 03:02:54         NaN   admin  \n11  16-05-2023 03:04:53         NaN   admin  \n12  16-05-2023 03:05:30         NaN   admin  \n13  16-05-2023 03:05:55         NaN   admin  \n14  16-05-2023 03:07:15         NaN   admin  \n15  16-05-2023 03:09:13         NaN   admin  \n16  16-05-2023 03:09:29         NaN   admin  \n17  16-05-2023 03:10:27         NaN   admin  \n18  16-05-2023 03:10:53         NaN   admin  \n19  16-05-2023 03:11:19         NaN   admin  \n20  16-05-2023 03:11:40         NaN   admin  \n21  16-05-2023 03:12:00         NaN   admin  \n22  16-05-2023 03:12:28         NaN   admin  \n23  16-05-2023 03:12:50         NaN   admin  \n24  16-05-2023 03:13:38         NaN   admin  \n25  16-05-2023 03:16:34         NaN   admin  \n26  16-05-2023 03:17:15         NaN   admin  \n27  16-05-2023 03:18:25         NaN   admin  \n28  16-05-2023 03:19:09         NaN   admin  \n29  16-05-2023 03:19:38         NaN   admin  \n30  16-05-2023 03:20:48         NaN   admin  \n31  16-05-2023 03:21:47         NaN   admin  \n32  16-05-2023 03:23:24         NaN   admin  \n33  16-05-2023 03:23:50         NaN   admin  \n34  16-05-2023 03:24:32         NaN   admin  \n35  16-05-2023 03:24:57         NaN   admin  \n36  16-05-2023 03:25:23         NaN   admin  \n37  16-05-2023 03:25:46         NaN   admin  \n38  16-05-2023 03:26:33         NaN   admin  \n39  16-05-2023 03:26:46         NaN   admin  \n40  16-05-2023 03:27:41         NaN   admin  \n41  16-05-2023 03:27:56         NaN   admin  \n42  16-05-2023 03:28:26         NaN   admin  \n43  16-05-2023 03:29:42         NaN   admin  \n44  16-05-2023 03:30:32         NaN   admin  \n45  16-05-2023 03:30:52         NaN   admin  \n46  16-05-2023 03:31:29         NaN   admin  \n47  16-05-2023 03:32:05         NaN   admin  \n48  16-05-2023 03:34:00         NaN   admin  \n49  16-05-2023 03:34:19         NaN   admin  \n50  16-05-2023 03:34:47         NaN   admin  \n51  16-05-2023 03:35:12         NaN   admin  ",
      "text/html": "<div>\n<style scoped>\n    .dataframe tbody tr th:only-of-type {\n        vertical-align: middle;\n    }\n\n    .dataframe tbody tr th {\n        vertical-align: top;\n    }\n\n    .dataframe thead th {\n        text-align: right;\n    }\n</style>\n<table border=\"1\" class=\"dataframe\">\n  <thead>\n    <tr style=\"text-align: right;\">\n      <th></th>\n      <th>post_id</th>\n      <th>title</th>\n      <th>slug</th>\n      <th>content</th>\n      <th>thumbnail</th>\n      <th>num_of_likes</th>\n      <th>created_at</th>\n      <th>deleted_at</th>\n      <th>user_id</th>\n    </tr>\n  </thead>\n  <tbody>\n    <tr>\n      <th>0</th>\n      <td>P83810</td>\n      <td>Making Useful Plant Pot From Waste Packaging M...</td>\n      <td>making-useful-plant-pot-from-waste-packaging-m...</td>\n      <td>&lt;img src=\"https://content.instructables.com/FV...</td>\n      <td>https://content.instructables.com/FV4/9EYY/LHD...</td>\n      <td>0</td>\n      <td>15-05-2023 23:59:20</td>\n      <td>NaN</td>\n      <td>admin</td>\n    </tr>\n    <tr>\n      <th>1</th>\n      <td>P03905</td>\n      <td>Handmade Solstice Clock (Best Out of Waste)</td>\n      <td>handmade-solstice-clock-best-out-of-waste</td>\n      <td>&lt;img src=\"https://content.instructables.com/FP...</td>\n      <td>https://content.instructables.com/FP8/JQAG/LEO...</td>\n      <td>0</td>\n      <td>16-05-2023 00:00:05</td>\n      <td>NaN</td>\n      <td>admin</td>\n    </tr>\n    <tr>\n      <th>2</th>\n      <td>P30512</td>\n      <td>DIY Best of Waste</td>\n      <td>diy-best-of-waste</td>\n      <td>&lt;img src=\"https://content.instructables.com/FG...</td>\n      <td>https://content.instructables.com/FGC/0OGY/LEL...</td>\n      <td>0</td>\n      <td>16-05-2023 00:00:26</td>\n      <td>NaN</td>\n      <td>admin</td>\n    </tr>\n    <tr>\n      <th>3</th>\n      <td>P79840</td>\n      <td>A Bluetooth Speaker Built With Waste Material</td>\n      <td>a-bluetooth-speaker-built-with-waste-material</td>\n      <td>&lt;img src=\"https://content.instructables.com/FL...</td>\n      <td>https://content.instructables.com/FLR/949N/LE1...</td>\n      <td>0</td>\n      <td>16-05-2023 00:00:49</td>\n      <td>NaN</td>\n      <td>admin</td>\n    </tr>\n    <tr>\n      <th>4</th>\n      <td>P30021</td>\n      <td>3D WASTE BLUETOOTH</td>\n      <td>3d-waste-bluetooth</td>\n      <td>&lt;img src=\"https://content.instructables.com/F4...</td>\n      <td>https://content.instructables.com/F4X/VNDM/LDZ...</td>\n      <td>0</td>\n      <td>16-05-2023 00:01:49</td>\n      <td>NaN</td>\n      <td>admin</td>\n    </tr>\n    <tr>\n      <th>5</th>\n      <td>P74341</td>\n      <td>Glowing Light From Packaging Waste</td>\n      <td>glowing-light-from-packaging-waste</td>\n      <td>&lt;img src=\"https://content.instructables.com/FP...</td>\n      <td>https://content.instructables.com/FP4/47SN/F23...</td>\n      <td>0</td>\n      <td>16-05-2023 00:02:41</td>\n      <td>NaN</td>\n      <td>admin</td>\n    </tr>\n    <tr>\n      <th>6</th>\n      <td>P50019</td>\n      <td>How to Keep Warm on Waste Heat</td>\n      <td>how-to-keep-warm-on-waste-heat</td>\n      <td>&lt;img src=\"https://content.instructables.com/FX...</td>\n      <td>https://content.instructables.com/FXK/O317/FPW...</td>\n      <td>0</td>\n      <td>16-05-2023 00:03:54</td>\n      <td>NaN</td>\n      <td>admin</td>\n    </tr>\n    <tr>\n      <th>7</th>\n      <td>P09071</td>\n      <td>Acetone Recycler (Industrial Waste Management)</td>\n      <td>acetone-recycler-industrial-waste-management</td>\n      <td>&lt;img src=\"https://content.instructables.com/F5...</td>\n      <td>https://content.instructables.com/F5L/1L7B/FTD...</td>\n      <td>0</td>\n      <td>16-05-2023 00:05:05</td>\n      <td>NaN</td>\n      <td>admin</td>\n    </tr>\n    <tr>\n      <th>8</th>\n      <td>P14029</td>\n      <td>Recycled Computer Monitor to Waste Basket (sup...</td>\n      <td>recycled-computer-monitor-to-waste-basket-supe...</td>\n      <td>&lt;img src=\"https://content.instructables.com/FR...</td>\n      <td>https://content.instructables.com/FRC/YIUX/GJQ...</td>\n      <td>0</td>\n      <td>16-05-2023 00:07:01</td>\n      <td>NaN</td>\n      <td>admin</td>\n    </tr>\n    <tr>\n      <th>9</th>\n      <td>P05014</td>\n      <td>\"Toxic Waste\" Halloween Costume!</td>\n      <td>toxic-waste-halloween-costume</td>\n      <td>&lt;img src=\"https://content.instructables.com/F5...</td>\n      <td>https://content.instructables.com/F53/JA8Y/GTO...</td>\n      <td>0</td>\n      <td>16-05-2023 03:00:40</td>\n      <td>NaN</td>\n      <td>admin</td>\n    </tr>\n    <tr>\n      <th>10</th>\n      <td>P81678</td>\n      <td>DIY Steam-punk Ring Made Out of Some Metal Waste</td>\n      <td>diy-steampunk-ring-made-out-of-some-metal-waste</td>\n      <td>&lt;img src=\"https://content.instructables.com/FW...</td>\n      <td>https://content.instructables.com/FW9/P1FT/H3Z...</td>\n      <td>0</td>\n      <td>16-05-2023 03:02:54</td>\n      <td>NaN</td>\n      <td>admin</td>\n    </tr>\n    <tr>\n      <th>11</th>\n      <td>P42753</td>\n      <td>Warm Hats From Waste Fleece Fabric</td>\n      <td>warm-hats-from-waste-fleece-fabric</td>\n      <td>&lt;img src=\"https://content.instructables.com/FM...</td>\n      <td>https://content.instructables.com/FMQ/YQ7M/HA4...</td>\n      <td>0</td>\n      <td>16-05-2023 03:04:53</td>\n      <td>NaN</td>\n      <td>admin</td>\n    </tr>\n    <tr>\n      <th>12</th>\n      <td>P49695</td>\n      <td>OTA HDTV Antenna From Construction Waste</td>\n      <td>ota-hdtv-antenna-from-construction-waste</td>\n      <td>&lt;img src=\"https://content.instructables.com/FQ...</td>\n      <td>https://content.instructables.com/FQG/3QJW/HBU...</td>\n      <td>0</td>\n      <td>16-05-2023 03:05:30</td>\n      <td>NaN</td>\n      <td>admin</td>\n    </tr>\n    <tr>\n      <th>13</th>\n      <td>P12240</td>\n      <td>Cardboard Waste Tower</td>\n      <td>cardboard-waste-tower</td>\n      <td>&lt;img src=\"https://content.instructables.com/F1...</td>\n      <td>https://content.instructables.com/F18/WS2E/HDX...</td>\n      <td>0</td>\n      <td>16-05-2023 03:05:55</td>\n      <td>NaN</td>\n      <td>admin</td>\n    </tr>\n    <tr>\n      <th>14</th>\n      <td>P60889</td>\n      <td>Creative Moneybox Made From Plastic Bottle Waste</td>\n      <td>creative-moneybox-made-from-plastic-bottle-waste</td>\n      <td>&lt;img src=\"https://content.instructables.com/F4...</td>\n      <td>https://content.instructables.com/F4S/253O/HH2...</td>\n      <td>0</td>\n      <td>16-05-2023 03:07:15</td>\n      <td>NaN</td>\n      <td>admin</td>\n    </tr>\n    <tr>\n      <th>15</th>\n      <td>P33972</td>\n      <td>Waste Plastic Pump</td>\n      <td>waste-plastic-pump</td>\n      <td>&lt;img src=\"https://content.instructables.com/FK...</td>\n      <td>https://content.instructables.com/FKL/45O3/HIT...</td>\n      <td>0</td>\n      <td>16-05-2023 03:09:13</td>\n      <td>NaN</td>\n      <td>admin</td>\n    </tr>\n    <tr>\n      <th>16</th>\n      <td>P63654</td>\n      <td>Wristlet From Waste Fabric</td>\n      <td>wristlet-from-waste-fabric</td>\n      <td>&lt;img src=\"https://content.instructables.com/F4...</td>\n      <td>https://content.instructables.com/F4S/KPNG/HJ3...</td>\n      <td>0</td>\n      <td>16-05-2023 03:09:29</td>\n      <td>NaN</td>\n      <td>admin</td>\n    </tr>\n    <tr>\n      <th>17</th>\n      <td>P16728</td>\n      <td>Rocket Stove Manufacturing Waste 40 Minutes.</td>\n      <td>rocket-stove-manufacturing-waste-40-minutes</td>\n      <td>&lt;img src=\"https://content.instructables.com/FV...</td>\n      <td>https://content.instructables.com/FVY/DZ3A/HSR...</td>\n      <td>0</td>\n      <td>16-05-2023 03:10:27</td>\n      <td>NaN</td>\n      <td>admin</td>\n    </tr>\n    <tr>\n      <th>18</th>\n      <td>P27742</td>\n      <td>Electronic Waste Bracelet</td>\n      <td>electronic-waste-bracelet</td>\n      <td>&lt;img src=\"https://content.instructables.com/F6...</td>\n      <td>https://content.instructables.com/F6X/5WVX/HTR...</td>\n      <td>0</td>\n      <td>16-05-2023 03:10:53</td>\n      <td>NaN</td>\n      <td>admin</td>\n    </tr>\n    <tr>\n      <th>19</th>\n      <td>P29389</td>\n      <td>Low Waste Low Spillage Chicken Feeder</td>\n      <td>low-waste-low-spillage-chicken-feeder</td>\n      <td>&lt;p&gt;Cheap to make low waste chicken feeder for ...</td>\n      <td>NaN</td>\n      <td>0</td>\n      <td>16-05-2023 03:11:19</td>\n      <td>NaN</td>\n      <td>admin</td>\n    </tr>\n    <tr>\n      <th>20</th>\n      <td>P85426</td>\n      <td>Shock Prank Out of Waste...</td>\n      <td>shock-prank-out-of-waste</td>\n      <td>&lt;img src=\"https://content.instructables.com/FV...</td>\n      <td>https://content.instructables.com/FVG/MWDH/I88...</td>\n      <td>0</td>\n      <td>16-05-2023 03:11:40</td>\n      <td>NaN</td>\n      <td>admin</td>\n    </tr>\n    <tr>\n      <th>21</th>\n      <td>P91680</td>\n      <td>Sparebots Selfmade Electronic Waste DIY Project</td>\n      <td>sparebots-selfmade-electronic-waste-diy-project</td>\n      <td>&lt;img src=\"https://content.instructables.com/F7...</td>\n      <td>https://content.instructables.com/F7H/642Y/I2Q...</td>\n      <td>0</td>\n      <td>16-05-2023 03:12:00</td>\n      <td>NaN</td>\n      <td>admin</td>\n    </tr>\n    <tr>\n      <th>22</th>\n      <td>P21465</td>\n      <td>Ashtray Made of Total Waste Material</td>\n      <td>ashtray-made-of-total-waste-material</td>\n      <td>&lt;img src=\"https://content.instructables.com/F8...</td>\n      <td>https://content.instructables.com/F8Y/KPJP/I3K...</td>\n      <td>0</td>\n      <td>16-05-2023 03:12:28</td>\n      <td>NaN</td>\n      <td>admin</td>\n    </tr>\n    <tr>\n      <th>23</th>\n      <td>P74177</td>\n      <td>Paper Stand From Waste</td>\n      <td>paper-stand-from-waste</td>\n      <td>&lt;img src=\"https://content.instructables.com/FV...</td>\n      <td>https://content.instructables.com/FV9/FIP4/I4X...</td>\n      <td>0</td>\n      <td>16-05-2023 03:12:50</td>\n      <td>NaN</td>\n      <td>admin</td>\n    </tr>\n    <tr>\n      <th>24</th>\n      <td>P84874</td>\n      <td>Night Lights Made From Waste Materials...</td>\n      <td>night-lights-made-from-waste-materials</td>\n      <td>&lt;img src=\"https://content.instructables.com/FV...</td>\n      <td>https://content.instructables.com/FV7/JO2Y/I52...</td>\n      <td>0</td>\n      <td>16-05-2023 03:13:38</td>\n      <td>NaN</td>\n      <td>admin</td>\n    </tr>\n    <tr>\n      <th>25</th>\n      <td>P63372</td>\n      <td>DIY Flower Vase Out of Waste News Paper</td>\n      <td>diy-flower-vase-out-of-waste-news-paper</td>\n      <td>&lt;img src=\"https://content.instructables.com/FM...</td>\n      <td>https://content.instructables.com/FMR/AA6F/IBQ...</td>\n      <td>0</td>\n      <td>16-05-2023 03:16:34</td>\n      <td>NaN</td>\n      <td>admin</td>\n    </tr>\n    <tr>\n      <th>26</th>\n      <td>P95817</td>\n      <td>DIY Flower Vase Out of Waste Products</td>\n      <td>diy-flower-vase-out-of-waste-products</td>\n      <td>&lt;img src=\"https://content.instructables.com/FM...</td>\n      <td>https://content.instructables.com/FM4/B1S4/IBQ...</td>\n      <td>0</td>\n      <td>16-05-2023 03:17:15</td>\n      <td>NaN</td>\n      <td>admin</td>\n    </tr>\n    <tr>\n      <th>27</th>\n      <td>P90519</td>\n      <td>Best Out of Waste</td>\n      <td>best-out-of-waste</td>\n      <td>&lt;img src=\"https://content.instructables.com/FT...</td>\n      <td>https://content.instructables.com/FT8/RYMY/IE4...</td>\n      <td>0</td>\n      <td>16-05-2023 03:18:25</td>\n      <td>NaN</td>\n      <td>admin</td>\n    </tr>\n    <tr>\n      <th>28</th>\n      <td>P76225</td>\n      <td>Goldie's Toxic Waste Barrels</td>\n      <td>goldies-toxic-waste-barrels</td>\n      <td>&lt;img src=\"https://content.instructables.com/F3...</td>\n      <td>https://content.instructables.com/F39/AC1E/FH5...</td>\n      <td>0</td>\n      <td>16-05-2023 03:19:09</td>\n      <td>NaN</td>\n      <td>admin</td>\n    </tr>\n    <tr>\n      <th>29</th>\n      <td>P77278</td>\n      <td>Stirling Engine From Waste</td>\n      <td>stirling-engine-from-waste</td>\n      <td>&lt;img src=\"https://content.instructables.com/FO...</td>\n      <td>https://content.instructables.com/FOT/SPCY/IFV...</td>\n      <td>0</td>\n      <td>16-05-2023 03:19:38</td>\n      <td>NaN</td>\n      <td>admin</td>\n    </tr>\n    <tr>\n      <th>30</th>\n      <td>P62616</td>\n      <td>Clad Composite Beam From Waste</td>\n      <td>clad-composite-beam-from-waste</td>\n      <td>&lt;img src=\"https://content.instructables.com/FU...</td>\n      <td>https://content.instructables.com/FU3/80AB/IHK...</td>\n      <td>0</td>\n      <td>16-05-2023 03:20:48</td>\n      <td>NaN</td>\n      <td>admin</td>\n    </tr>\n    <tr>\n      <th>31</th>\n      <td>P34687</td>\n      <td>DIY : How to Upscale Old Boxes to Organizers |...</td>\n      <td>diy-how-to-upscale-old-boxes-to-organizers-bes...</td>\n      <td>&lt;img src=\"https://content.instructables.com/FT...</td>\n      <td>https://content.instructables.com/FTQ/ILS0/IHF...</td>\n      <td>0</td>\n      <td>16-05-2023 03:21:47</td>\n      <td>NaN</td>\n      <td>admin</td>\n    </tr>\n    <tr>\n      <th>32</th>\n      <td>P30595</td>\n      <td>The Sweet Spin- Best Way to Reuse the Waste</td>\n      <td>the-sweet-spin-best-way-to-reuse-the-waste</td>\n      <td>&lt;img src=\"https://content.instructables.com/FH...</td>\n      <td>https://content.instructables.com/FHT/VHC8/IIY...</td>\n      <td>0</td>\n      <td>16-05-2023 03:23:24</td>\n      <td>NaN</td>\n      <td>admin</td>\n    </tr>\n    <tr>\n      <th>33</th>\n      <td>P16299</td>\n      <td>How to Make a Showcase Using Waste Carton Box</td>\n      <td>how-to-make-a-showcase-using-waste-carton-box</td>\n      <td>&lt;p&gt;Make this beautiful showcase using carton a...</td>\n      <td>NaN</td>\n      <td>0</td>\n      <td>16-05-2023 03:23:50</td>\n      <td>NaN</td>\n      <td>admin</td>\n    </tr>\n    <tr>\n      <th>34</th>\n      <td>P32816</td>\n      <td>From Waste to Tabletop Planter for Sunroom</td>\n      <td>from-waste-to-tabletop-planter-for-sunroom</td>\n      <td>&lt;img src=\"https://content.instructables.com/FW...</td>\n      <td>https://content.instructables.com/FWJ/6TL6/INE...</td>\n      <td>0</td>\n      <td>16-05-2023 03:24:32</td>\n      <td>NaN</td>\n      <td>admin</td>\n    </tr>\n    <tr>\n      <th>35</th>\n      <td>P05273</td>\n      <td>UpBrella - Waste Knot</td>\n      <td>upbrella-waste-knot</td>\n      <td>&lt;img src=\"https://content.instructables.com/FK...</td>\n      <td>https://content.instructables.com/FKV/PIDM/IOO...</td>\n      <td>0</td>\n      <td>16-05-2023 03:24:57</td>\n      <td>NaN</td>\n      <td>admin</td>\n    </tr>\n    <tr>\n      <th>36</th>\n      <td>P33082</td>\n      <td>Flower Art From Waste Straws</td>\n      <td>flower-art-from-waste-straws</td>\n      <td>&lt;p&gt;Art from waste straws - Made these pretty s...</td>\n      <td>NaN</td>\n      <td>0</td>\n      <td>16-05-2023 03:25:23</td>\n      <td>NaN</td>\n      <td>admin</td>\n    </tr>\n    <tr>\n      <th>37</th>\n      <td>P71118</td>\n      <td>How to Make a Toothbrush Holder /Toothbrush Ho...</td>\n      <td>how-to-make-a-toothbrush-holder-toothbrush-hol...</td>\n      <td>&lt;p&gt;Recycled tin and candy tube Toothbrush hold...</td>\n      <td>NaN</td>\n      <td>0</td>\n      <td>16-05-2023 03:25:46</td>\n      <td>NaN</td>\n      <td>admin</td>\n    </tr>\n    <tr>\n      <th>38</th>\n      <td>P91521</td>\n      <td>Magazine Waste Basket</td>\n      <td>magazine-waste-basket</td>\n      <td>&lt;img src=\"https://content.instructables.com/F7...</td>\n      <td>https://content.instructables.com/F7K/LMNG/GQS...</td>\n      <td>0</td>\n      <td>16-05-2023 03:26:33</td>\n      <td>NaN</td>\n      <td>admin</td>\n    </tr>\n    <tr>\n      <th>39</th>\n      <td>P79806</td>\n      <td>Waste Batteries Night Light</td>\n      <td>waste-batteries-night-light</td>\n      <td>&lt;img src=\"https://content.instructables.com/FM...</td>\n      <td>https://content.instructables.com/FMS/EWOT/ISA...</td>\n      <td>0</td>\n      <td>16-05-2023 03:26:46</td>\n      <td>NaN</td>\n      <td>admin</td>\n    </tr>\n    <tr>\n      <th>40</th>\n      <td>P38254</td>\n      <td>Room/Garden Decor Lamp(Out of Waste!!!)</td>\n      <td>roomgarden-decor-lampout-of-waste</td>\n      <td>&lt;img src=\"https://content.instructables.com/FB...</td>\n      <td>https://content.instructables.com/FBR/422T/IU4...</td>\n      <td>0</td>\n      <td>16-05-2023 03:27:41</td>\n      <td>NaN</td>\n      <td>admin</td>\n    </tr>\n    <tr>\n      <th>41</th>\n      <td>P72340</td>\n      <td>Welcome Doll From Waste Glass Bottles</td>\n      <td>welcome-doll-from-waste-glass-bottles</td>\n      <td>&lt;img src=\"https://content.instructables.com/FC...</td>\n      <td>https://content.instructables.com/FCM/TK2O/IU8...</td>\n      <td>0</td>\n      <td>16-05-2023 03:27:56</td>\n      <td>NaN</td>\n      <td>admin</td>\n    </tr>\n    <tr>\n      <th>42</th>\n      <td>P19936</td>\n      <td>Furniture From Construction Waste</td>\n      <td>furniture-from-construction-waste</td>\n      <td>&lt;img src=\"https://content.instructables.com/FK...</td>\n      <td>https://content.instructables.com/FKQ/49Z1/IUK...</td>\n      <td>0</td>\n      <td>16-05-2023 03:28:26</td>\n      <td>NaN</td>\n      <td>admin</td>\n    </tr>\n    <tr>\n      <th>43</th>\n      <td>P94203</td>\n      <td>Zero Waste Cart: Community Recycling Stand MSPF</td>\n      <td>zero-waste-cart-community-recycling-stand-mspf</td>\n      <td>&lt;img src=\"https://content.instructables.com/FM...</td>\n      <td>https://content.instructables.com/FM4/6U38/IV0...</td>\n      <td>0</td>\n      <td>16-05-2023 03:29:42</td>\n      <td>NaN</td>\n      <td>admin</td>\n    </tr>\n    <tr>\n      <th>44</th>\n      <td>P83066</td>\n      <td>DIY - Best From Waste Ll Used Cloth Door Mat /...</td>\n      <td>diy-best-from-waste-ll-used-cloth-door-mat-rug...</td>\n      <td>&lt;p&gt;Very Simple home made, Used / Waste Cloth D...</td>\n      <td>NaN</td>\n      <td>0</td>\n      <td>16-05-2023 03:30:32</td>\n      <td>NaN</td>\n      <td>admin</td>\n    </tr>\n    <tr>\n      <th>45</th>\n      <td>P58153</td>\n      <td>Best Out of Waste Cardboard Christmas Tree</td>\n      <td>best-out-of-waste-cardboard-christmas-tree</td>\n      <td>&lt;img src=\"https://content.instructables.com/F4...</td>\n      <td>https://content.instructables.com/F4D/76JW/IWW...</td>\n      <td>0</td>\n      <td>16-05-2023 03:30:52</td>\n      <td>NaN</td>\n      <td>admin</td>\n    </tr>\n    <tr>\n      <th>46</th>\n      <td>P89539</td>\n      <td>Paper Strip Bowl With Old Waste Paper</td>\n      <td>paper-strip-bowl-with-old-waste-paper</td>\n      <td>&lt;p&gt;Do you want something which keeps and organ...</td>\n      <td>NaN</td>\n      <td>0</td>\n      <td>16-05-2023 03:31:29</td>\n      <td>NaN</td>\n      <td>admin</td>\n    </tr>\n    <tr>\n      <th>47</th>\n      <td>P87404</td>\n      <td>Cardboard Roll Vase - Best Out of Waste</td>\n      <td>cardboard-roll-vase-best-out-of-waste</td>\n      <td>&lt;img src=\"https://content.instructables.com/FD...</td>\n      <td>https://content.instructables.com/FDS/4O0I/IY4...</td>\n      <td>0</td>\n      <td>16-05-2023 03:32:05</td>\n      <td>NaN</td>\n      <td>admin</td>\n    </tr>\n    <tr>\n      <th>48</th>\n      <td>P86275</td>\n      <td>Indoor Gardening - Sub Irrigation Planter Usin...</td>\n      <td>indoor-gardening-sub-irrigation-planter-using-...</td>\n      <td>&lt;img src=\"https://content.instructables.com/FM...</td>\n      <td>https://content.instructables.com/FML/SL8Z/IY4...</td>\n      <td>0</td>\n      <td>16-05-2023 03:34:00</td>\n      <td>NaN</td>\n      <td>admin</td>\n    </tr>\n    <tr>\n      <th>49</th>\n      <td>P17927</td>\n      <td>Storage/organizer From Waste Pipes</td>\n      <td>storageorganizer-from-waste-pipes</td>\n      <td>&lt;img src=\"https://content.instructables.com/FN...</td>\n      <td>https://content.instructables.com/FNA/6052/IYG...</td>\n      <td>0</td>\n      <td>16-05-2023 03:34:19</td>\n      <td>NaN</td>\n      <td>admin</td>\n    </tr>\n    <tr>\n      <th>50</th>\n      <td>P11813</td>\n      <td>DIY Tea Table From Waste Packing Box</td>\n      <td>diy-tea-table-from-waste-packing-box</td>\n      <td>&lt;img src=\"https://content.instructables.com/F9...</td>\n      <td>https://content.instructables.com/F9Y/NDUR/IZ6...</td>\n      <td>0</td>\n      <td>16-05-2023 03:34:47</td>\n      <td>NaN</td>\n      <td>admin</td>\n    </tr>\n    <tr>\n      <th>51</th>\n      <td>P09869</td>\n      <td>Making Beautiful Products From the Waste of a ...</td>\n      <td>making-beautiful-products-from-the-waste-of-a-...</td>\n      <td>&lt;img src=\"https://content.instructables.com/F1...</td>\n      <td>https://content.instructables.com/F1B/Z7Y7/IZ6...</td>\n      <td>0</td>\n      <td>16-05-2023 03:35:12</td>\n      <td>NaN</td>\n      <td>admin</td>\n    </tr>\n  </tbody>\n</table>\n</div>"
     },
     "execution_count": 47,
     "metadata": {},
     "output_type": "execute_result"
    }
   ],
   "source": [
    "ins_df"
   ],
   "metadata": {
    "collapsed": false,
    "ExecuteTime": {
     "end_time": "2023-05-18T08:50:10.489690100Z",
     "start_time": "2023-05-18T08:50:10.444692300Z"
    }
   }
  },
  {
   "cell_type": "markdown",
   "source": [
    "## Export the cleaned data"
   ],
   "metadata": {
    "collapsed": false
   }
  },
  {
   "cell_type": "code",
   "execution_count": 48,
   "outputs": [],
   "source": [
    "ins_df.to_csv(r'..\\data\\posts.tsv', index=False, sep='\\t')\n",
    "ins_mat_df.to_csv(r'..\\data\\posts_ingredients.csv', index=False)\n",
    "mat_df.to_csv(r'..\\data\\ingredients.csv', index=False)"
   ],
   "metadata": {
    "collapsed": false,
    "ExecuteTime": {
     "end_time": "2023-05-18T08:53:50.911466900Z",
     "start_time": "2023-05-18T08:53:50.825214400Z"
    }
   }
  },
  {
   "cell_type": "code",
   "execution_count": null,
   "outputs": [],
   "source": [],
   "metadata": {
    "collapsed": false
   }
  }
 ],
 "metadata": {
  "kernelspec": {
   "display_name": "Python 3",
   "language": "python",
   "name": "python3"
  },
  "language_info": {
   "codemirror_mode": {
    "name": "ipython",
    "version": 2
   },
   "file_extension": ".py",
   "mimetype": "text/x-python",
   "name": "python",
   "nbconvert_exporter": "python",
   "pygments_lexer": "ipython2",
   "version": "2.7.6"
  }
 },
 "nbformat": 4,
 "nbformat_minor": 0
}
