{
 "cells": [
  {
   "cell_type": "code",
   "execution_count": 1,
   "metadata": {
    "collapsed": true,
    "ExecuteTime": {
     "end_time": "2023-05-16T10:15:27.112433600Z",
     "start_time": "2023-05-16T10:15:19.490786500Z"
    }
   },
   "outputs": [],
   "source": [
    "import pandas as pd"
   ]
  },
  {
   "cell_type": "code",
   "execution_count": 21,
   "outputs": [],
   "source": [
    "MATERIAL_FILE_PATH = r'..\\data\\ingredients.csv'\n",
    "INSTRUCTION_MATERIAL_FILE_PATH = r'..\\data\\posts_ingredients.csv'"
   ],
   "metadata": {
    "collapsed": false,
    "ExecuteTime": {
     "end_time": "2023-05-16T10:52:09.833622600Z",
     "start_time": "2023-05-16T10:52:09.812584900Z"
    }
   }
  },
  {
   "cell_type": "code",
   "execution_count": 41,
   "outputs": [
    {
     "data": {
      "text/plain": "        id post_id ingredient_id\n0  PM03279  P83810        M14593\n1  PM36049  P83810        M97197\n2  PM29257  P83810        M32099\n3  PM96531  P83810        M18290\n4  PM88697  P83810        M13435",
      "text/html": "<div>\n<style scoped>\n    .dataframe tbody tr th:only-of-type {\n        vertical-align: middle;\n    }\n\n    .dataframe tbody tr th {\n        vertical-align: top;\n    }\n\n    .dataframe thead th {\n        text-align: right;\n    }\n</style>\n<table border=\"1\" class=\"dataframe\">\n  <thead>\n    <tr style=\"text-align: right;\">\n      <th></th>\n      <th>id</th>\n      <th>post_id</th>\n      <th>ingredient_id</th>\n    </tr>\n  </thead>\n  <tbody>\n    <tr>\n      <th>0</th>\n      <td>PM03279</td>\n      <td>P83810</td>\n      <td>M14593</td>\n    </tr>\n    <tr>\n      <th>1</th>\n      <td>PM36049</td>\n      <td>P83810</td>\n      <td>M97197</td>\n    </tr>\n    <tr>\n      <th>2</th>\n      <td>PM29257</td>\n      <td>P83810</td>\n      <td>M32099</td>\n    </tr>\n    <tr>\n      <th>3</th>\n      <td>PM96531</td>\n      <td>P83810</td>\n      <td>M18290</td>\n    </tr>\n    <tr>\n      <th>4</th>\n      <td>PM88697</td>\n      <td>P83810</td>\n      <td>M13435</td>\n    </tr>\n  </tbody>\n</table>\n</div>"
     },
     "execution_count": 41,
     "metadata": {},
     "output_type": "execute_result"
    }
   ],
   "source": [
    "ins_mat_df = pd.read_csv(INSTRUCTION_MATERIAL_FILE_PATH)\n",
    "ins_mat_df.head()"
   ],
   "metadata": {
    "collapsed": false,
    "ExecuteTime": {
     "end_time": "2023-05-16T11:31:22.065451400Z",
     "start_time": "2023-05-16T11:31:22.035787400Z"
    }
   }
  },
  {
   "cell_type": "code",
   "execution_count": 5,
   "outputs": [
    {
     "data": {
      "text/plain": "       id          ingredient           created_at\n0  M14593  packaging material  15-05-2023 23:59:20\n1  M97197          thermocoal  15-05-2023 23:59:20\n2  M32099              paints  15-05-2023 23:59:20\n3  M18290               brush  15-05-2023 23:59:20\n4  M13435           dry leafs  15-05-2023 23:59:20",
      "text/html": "<div>\n<style scoped>\n    .dataframe tbody tr th:only-of-type {\n        vertical-align: middle;\n    }\n\n    .dataframe tbody tr th {\n        vertical-align: top;\n    }\n\n    .dataframe thead th {\n        text-align: right;\n    }\n</style>\n<table border=\"1\" class=\"dataframe\">\n  <thead>\n    <tr style=\"text-align: right;\">\n      <th></th>\n      <th>id</th>\n      <th>ingredient</th>\n      <th>created_at</th>\n    </tr>\n  </thead>\n  <tbody>\n    <tr>\n      <th>0</th>\n      <td>M14593</td>\n      <td>packaging material</td>\n      <td>15-05-2023 23:59:20</td>\n    </tr>\n    <tr>\n      <th>1</th>\n      <td>M97197</td>\n      <td>thermocoal</td>\n      <td>15-05-2023 23:59:20</td>\n    </tr>\n    <tr>\n      <th>2</th>\n      <td>M32099</td>\n      <td>paints</td>\n      <td>15-05-2023 23:59:20</td>\n    </tr>\n    <tr>\n      <th>3</th>\n      <td>M18290</td>\n      <td>brush</td>\n      <td>15-05-2023 23:59:20</td>\n    </tr>\n    <tr>\n      <th>4</th>\n      <td>M13435</td>\n      <td>dry leafs</td>\n      <td>15-05-2023 23:59:20</td>\n    </tr>\n  </tbody>\n</table>\n</div>"
     },
     "execution_count": 5,
     "metadata": {},
     "output_type": "execute_result"
    }
   ],
   "source": [
    "material_df = pd.read_csv(MATERIAL_FILE_PATH)\n",
    "material_df.head()"
   ],
   "metadata": {
    "collapsed": false,
    "ExecuteTime": {
     "end_time": "2023-05-16T10:16:18.615907900Z",
     "start_time": "2023-05-16T10:16:18.582910800Z"
    }
   }
  },
  {
   "cell_type": "code",
   "execution_count": 11,
   "outputs": [
    {
     "data": {
      "text/plain": "         id    ingredient           created_at\n47   M60590        cutter  16-05-2023 00:00:49\n92   M70698       plastic  16-05-2023 00:04:19\n112  M85181      pvc pipe  16-05-2023 00:05:05\n124  M43310        switch  16-05-2023 00:05:05\n130  M75526      pvc pipe  16-05-2023 00:05:05\n..      ...           ...                  ...\n676  M97974         glass  16-05-2023 03:34:47\n678  M17323      scissors  16-05-2023 03:34:47\n679  M47954        cutter  16-05-2023 03:34:47\n681  M21568        marker  16-05-2023 03:34:47\n693  M88189  plastic bags  16-05-2023 03:36:12\n\n[106 rows x 3 columns]",
      "text/html": "<div>\n<style scoped>\n    .dataframe tbody tr th:only-of-type {\n        vertical-align: middle;\n    }\n\n    .dataframe tbody tr th {\n        vertical-align: top;\n    }\n\n    .dataframe thead th {\n        text-align: right;\n    }\n</style>\n<table border=\"1\" class=\"dataframe\">\n  <thead>\n    <tr style=\"text-align: right;\">\n      <th></th>\n      <th>id</th>\n      <th>ingredient</th>\n      <th>created_at</th>\n    </tr>\n  </thead>\n  <tbody>\n    <tr>\n      <th>47</th>\n      <td>M60590</td>\n      <td>cutter</td>\n      <td>16-05-2023 00:00:49</td>\n    </tr>\n    <tr>\n      <th>92</th>\n      <td>M70698</td>\n      <td>plastic</td>\n      <td>16-05-2023 00:04:19</td>\n    </tr>\n    <tr>\n      <th>112</th>\n      <td>M85181</td>\n      <td>pvc pipe</td>\n      <td>16-05-2023 00:05:05</td>\n    </tr>\n    <tr>\n      <th>124</th>\n      <td>M43310</td>\n      <td>switch</td>\n      <td>16-05-2023 00:05:05</td>\n    </tr>\n    <tr>\n      <th>130</th>\n      <td>M75526</td>\n      <td>pvc pipe</td>\n      <td>16-05-2023 00:05:05</td>\n    </tr>\n    <tr>\n      <th>...</th>\n      <td>...</td>\n      <td>...</td>\n      <td>...</td>\n    </tr>\n    <tr>\n      <th>676</th>\n      <td>M97974</td>\n      <td>glass</td>\n      <td>16-05-2023 03:34:47</td>\n    </tr>\n    <tr>\n      <th>678</th>\n      <td>M17323</td>\n      <td>scissors</td>\n      <td>16-05-2023 03:34:47</td>\n    </tr>\n    <tr>\n      <th>679</th>\n      <td>M47954</td>\n      <td>cutter</td>\n      <td>16-05-2023 03:34:47</td>\n    </tr>\n    <tr>\n      <th>681</th>\n      <td>M21568</td>\n      <td>marker</td>\n      <td>16-05-2023 03:34:47</td>\n    </tr>\n    <tr>\n      <th>693</th>\n      <td>M88189</td>\n      <td>plastic bags</td>\n      <td>16-05-2023 03:36:12</td>\n    </tr>\n  </tbody>\n</table>\n<p>106 rows × 3 columns</p>\n</div>"
     },
     "execution_count": 11,
     "metadata": {},
     "output_type": "execute_result"
    }
   ],
   "source": [
    "duplicated_entry = material_df[material_df.ingredient.duplicated()]\n",
    "duplicated_entry"
   ],
   "metadata": {
    "collapsed": false,
    "ExecuteTime": {
     "end_time": "2023-05-16T10:23:56.477303300Z",
     "start_time": "2023-05-16T10:23:56.455302Z"
    }
   }
  },
  {
   "cell_type": "code",
   "execution_count": 42,
   "outputs": [],
   "source": [
    "duplicated_materials = duplicated_entry['ingredient'].unique()\n",
    "# loop over the duplicated material name\n",
    "for material in duplicated_materials:\n",
    "    # get the original id of the duplicated material, hence index 0\n",
    "    material_id = material_df[material_df['ingredient'] == material]['id'].values[0]\n",
    "    # loop over the id of all duplicated material occurrences that matches current material\n",
    "    for duplicated_material_id in duplicated_entry[duplicated_entry['ingredient'] == material]['id'].values:\n",
    "        # change value to original id where ingredient_id is equal to current material id\n",
    "        ins_mat_df['ingredient_id'].mask(ins_mat_df['ingredient_id'] == duplicated_material_id, material_id, inplace=True)\n",
    "        # ins_mat_df[ins_mat_df['ingredient_id'] == duplicated_material_id].loc[:, 'ingredient_id'] = material_id"
   ],
   "metadata": {
    "collapsed": false,
    "ExecuteTime": {
     "end_time": "2023-05-16T11:32:12.601054200Z",
     "start_time": "2023-05-16T11:32:12.475028900Z"
    }
   }
  },
  {
   "cell_type": "markdown",
   "source": [
    "Lets check some entry, where before fix the value should be `M47954`. Now it has gone, because it changed"
   ],
   "metadata": {
    "collapsed": false
   }
  },
  {
   "cell_type": "code",
   "execution_count": 44,
   "outputs": [
    {
     "data": {
      "text/plain": "Empty DataFrame\nColumns: [id, post_id, ingredient_id]\nIndex: []",
      "text/html": "<div>\n<style scoped>\n    .dataframe tbody tr th:only-of-type {\n        vertical-align: middle;\n    }\n\n    .dataframe tbody tr th {\n        vertical-align: top;\n    }\n\n    .dataframe thead th {\n        text-align: right;\n    }\n</style>\n<table border=\"1\" class=\"dataframe\">\n  <thead>\n    <tr style=\"text-align: right;\">\n      <th></th>\n      <th>id</th>\n      <th>post_id</th>\n      <th>ingredient_id</th>\n    </tr>\n  </thead>\n  <tbody>\n  </tbody>\n</table>\n</div>"
     },
     "execution_count": 44,
     "metadata": {},
     "output_type": "execute_result"
    }
   ],
   "source": [
    "ins_mat_df[ins_mat_df['ingredient_id'] == 'M47954']"
   ],
   "metadata": {
    "collapsed": false,
    "ExecuteTime": {
     "end_time": "2023-05-16T11:34:35.036206500Z",
     "start_time": "2023-05-16T11:34:35.013210600Z"
    }
   }
  },
  {
   "cell_type": "markdown",
   "source": [
    "Lets drop duplicates in original material df"
   ],
   "metadata": {
    "collapsed": false
   }
  },
  {
   "cell_type": "code",
   "execution_count": 46,
   "outputs": [
    {
     "data": {
      "text/plain": "         id          ingredient           created_at\n0    M14593  packaging material  15-05-2023 23:59:20\n1    M97197          thermocoal  15-05-2023 23:59:20\n2    M32099              paints  15-05-2023 23:59:20\n3    M18290               brush  15-05-2023 23:59:20\n4    M13435           dry leafs  15-05-2023 23:59:20\n..      ...                 ...                  ...\n690  M01825   recyclable fibres  16-05-2023 03:36:12\n691  M70330            clothing  16-05-2023 03:36:12\n692  M59610  biodegradable bags  16-05-2023 03:36:12\n694  M88126       plastic forks  16-05-2023 03:36:12\n695  M76620      plastic knives  16-05-2023 03:36:12\n\n[590 rows x 3 columns]",
      "text/html": "<div>\n<style scoped>\n    .dataframe tbody tr th:only-of-type {\n        vertical-align: middle;\n    }\n\n    .dataframe tbody tr th {\n        vertical-align: top;\n    }\n\n    .dataframe thead th {\n        text-align: right;\n    }\n</style>\n<table border=\"1\" class=\"dataframe\">\n  <thead>\n    <tr style=\"text-align: right;\">\n      <th></th>\n      <th>id</th>\n      <th>ingredient</th>\n      <th>created_at</th>\n    </tr>\n  </thead>\n  <tbody>\n    <tr>\n      <th>0</th>\n      <td>M14593</td>\n      <td>packaging material</td>\n      <td>15-05-2023 23:59:20</td>\n    </tr>\n    <tr>\n      <th>1</th>\n      <td>M97197</td>\n      <td>thermocoal</td>\n      <td>15-05-2023 23:59:20</td>\n    </tr>\n    <tr>\n      <th>2</th>\n      <td>M32099</td>\n      <td>paints</td>\n      <td>15-05-2023 23:59:20</td>\n    </tr>\n    <tr>\n      <th>3</th>\n      <td>M18290</td>\n      <td>brush</td>\n      <td>15-05-2023 23:59:20</td>\n    </tr>\n    <tr>\n      <th>4</th>\n      <td>M13435</td>\n      <td>dry leafs</td>\n      <td>15-05-2023 23:59:20</td>\n    </tr>\n    <tr>\n      <th>...</th>\n      <td>...</td>\n      <td>...</td>\n      <td>...</td>\n    </tr>\n    <tr>\n      <th>690</th>\n      <td>M01825</td>\n      <td>recyclable fibres</td>\n      <td>16-05-2023 03:36:12</td>\n    </tr>\n    <tr>\n      <th>691</th>\n      <td>M70330</td>\n      <td>clothing</td>\n      <td>16-05-2023 03:36:12</td>\n    </tr>\n    <tr>\n      <th>692</th>\n      <td>M59610</td>\n      <td>biodegradable bags</td>\n      <td>16-05-2023 03:36:12</td>\n    </tr>\n    <tr>\n      <th>694</th>\n      <td>M88126</td>\n      <td>plastic forks</td>\n      <td>16-05-2023 03:36:12</td>\n    </tr>\n    <tr>\n      <th>695</th>\n      <td>M76620</td>\n      <td>plastic knives</td>\n      <td>16-05-2023 03:36:12</td>\n    </tr>\n  </tbody>\n</table>\n<p>590 rows × 3 columns</p>\n</div>"
     },
     "execution_count": 46,
     "metadata": {},
     "output_type": "execute_result"
    }
   ],
   "source": [
    "temp_df = material_df.drop_duplicates(subset='ingredient')\n",
    "temp_df"
   ],
   "metadata": {
    "collapsed": false,
    "ExecuteTime": {
     "end_time": "2023-05-16T11:37:43.561207100Z",
     "start_time": "2023-05-16T11:37:43.530206900Z"
    }
   }
  },
  {
   "cell_type": "markdown",
   "source": [
    "Check the id of the duplicated material before. For sanity check"
   ],
   "metadata": {
    "collapsed": false
   }
  },
  {
   "cell_type": "code",
   "execution_count": 47,
   "outputs": [
    {
     "data": {
      "text/plain": "Empty DataFrame\nColumns: [id, ingredient, created_at]\nIndex: []",
      "text/html": "<div>\n<style scoped>\n    .dataframe tbody tr th:only-of-type {\n        vertical-align: middle;\n    }\n\n    .dataframe tbody tr th {\n        vertical-align: top;\n    }\n\n    .dataframe thead th {\n        text-align: right;\n    }\n</style>\n<table border=\"1\" class=\"dataframe\">\n  <thead>\n    <tr style=\"text-align: right;\">\n      <th></th>\n      <th>id</th>\n      <th>ingredient</th>\n      <th>created_at</th>\n    </tr>\n  </thead>\n  <tbody>\n  </tbody>\n</table>\n</div>"
     },
     "execution_count": 47,
     "metadata": {},
     "output_type": "execute_result"
    }
   ],
   "source": [
    "temp_df[temp_df['id'] == 'M60590']"
   ],
   "metadata": {
    "collapsed": false,
    "ExecuteTime": {
     "end_time": "2023-05-16T11:40:20.791844200Z",
     "start_time": "2023-05-16T11:40:20.781846300Z"
    }
   }
  },
  {
   "cell_type": "markdown",
   "source": [
    "Drop the duplicates, this time use inplace=True"
   ],
   "metadata": {
    "collapsed": false
   }
  },
  {
   "cell_type": "code",
   "execution_count": 48,
   "outputs": [],
   "source": [
    "material_df.drop_duplicates(subset='ingredient', inplace=True)"
   ],
   "metadata": {
    "collapsed": false,
    "ExecuteTime": {
     "end_time": "2023-05-16T11:42:18.243439Z",
     "start_time": "2023-05-16T11:42:17.629900500Z"
    }
   }
  },
  {
   "cell_type": "markdown",
   "source": [
    "Export both fixed datafranes"
   ],
   "metadata": {
    "collapsed": false
   }
  },
  {
   "cell_type": "code",
   "execution_count": 51,
   "outputs": [],
   "source": [
    "material_df.to_csv(MATERIAL_FILE_PATH, index=False)\n",
    "ins_mat_df.to_csv(INSTRUCTION_MATERIAL_FILE_PATH, index=False)"
   ],
   "metadata": {
    "collapsed": false,
    "ExecuteTime": {
     "end_time": "2023-05-16T11:44:11.844053300Z",
     "start_time": "2023-05-16T11:44:11.805415300Z"
    }
   }
  }
 ],
 "metadata": {
  "kernelspec": {
   "display_name": "Python 3",
   "language": "python",
   "name": "python3"
  },
  "language_info": {
   "codemirror_mode": {
    "name": "ipython",
    "version": 2
   },
   "file_extension": ".py",
   "mimetype": "text/x-python",
   "name": "python",
   "nbconvert_exporter": "python",
   "pygments_lexer": "ipython2",
   "version": "2.7.6"
  }
 },
 "nbformat": 4,
 "nbformat_minor": 0
}
